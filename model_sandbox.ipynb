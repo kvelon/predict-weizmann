{
 "cells": [
  {
   "cell_type": "code",
   "execution_count": 5,
   "metadata": {},
   "outputs": [],
   "source": [
    "import pytorch_lightning as pl\n",
    "from models import *\n",
    "from data.data_classes import *"
   ]
  },
  {
   "cell_type": "code",
   "execution_count": 6,
   "metadata": {},
   "outputs": [
    {
     "name": "stdout",
     "output_type": "stream",
     "text": [
      "torch.Size([4, 3, 1, 144, 180])\n",
      "torch.Size([4, 3, 9, 144, 180])\n"
     ]
    }
   ],
   "source": [
    "batch_size = 4\n",
    "\n",
    "num_ctx_frames = 1\n",
    "num_tgt_frames = 9\n",
    "action_types = \"flipped_jumpingjack\"\n",
    "\n",
    "weizmann = WeizmannDataModule(batch_size, num_ctx_frames, num_tgt_frames,\n",
    "                                  action_types=action_types)\n",
    "\n",
    "weizmann.setup()\n",
    "tl = weizmann.train_dataloader()\n",
    "train_ctx_batch, train_tgt_batch = next(iter(tl))\n",
    "print(train_ctx_batch.shape)\n",
    "print(train_tgt_batch.shape)\n",
    "\n",
    "vl = weizmann.val_dataloader()\n",
    "val_ctx_batch, val_tgt_batch = next(iter(tl))"
   ]
  },
  {
   "cell_type": "code",
   "execution_count": 8,
   "metadata": {},
   "outputs": [],
   "source": [
    "mod1 = nn.Sequential(\n",
    "            Conv3dBlock(3, 32), \n",
    "            Conv3dBlock(32, 32), Conv3dBlock(32, 32), Conv3dBlock(32, 32),\n",
    "            Conv3dDownsample(32),\n",
    "            Conv3dBlock(64, 64), Conv3dBlock(64, 64), Conv3dBlock(64, 64)\n",
    "        )"
   ]
  },
  {
   "cell_type": "code",
   "execution_count": 9,
   "metadata": {},
   "outputs": [
    {
     "data": {
      "text/plain": [
       "torch.Size([4, 64, 1, 72, 90])"
      ]
     },
     "execution_count": 9,
     "metadata": {},
     "output_type": "execute_result"
    }
   ],
   "source": [
    "mod1(train_ctx_batch).shape"
   ]
  },
  {
   "cell_type": "code",
   "execution_count": 10,
   "metadata": {},
   "outputs": [
    {
     "data": {
      "text/plain": [
       "torch.Size([4, 64, 9, 72, 90])"
      ]
     },
     "execution_count": 10,
     "metadata": {},
     "output_type": "execute_result"
    }
   ],
   "source": [
    "mod1(train_tgt_batch).shape"
   ]
  },
  {
   "cell_type": "code",
   "execution_count": 12,
   "metadata": {},
   "outputs": [
    {
     "data": {
      "text/plain": [
       "torch.Size([4, 32, 1, 144, 180])"
      ]
     },
     "execution_count": 12,
     "metadata": {},
     "output_type": "execute_result"
    }
   ],
   "source": [
    "conv3d = Conv3dBlock(3, 32)\n",
    "conv3d(train_ctx_batch).shape"
   ]
  },
  {
   "cell_type": "code",
   "execution_count": null,
   "metadata": {},
   "outputs": [],
   "source": []
  }
 ],
 "metadata": {
  "kernelspec": {
   "display_name": "Python 3.10.5 ('pytorch')",
   "language": "python",
   "name": "python3"
  },
  "language_info": {
   "codemirror_mode": {
    "name": "ipython",
    "version": 3
   },
   "file_extension": ".py",
   "mimetype": "text/x-python",
   "name": "python",
   "nbconvert_exporter": "python",
   "pygments_lexer": "ipython3",
   "version": "3.10.5"
  },
  "orig_nbformat": 4,
  "vscode": {
   "interpreter": {
    "hash": "da4c3a4107fc661dfc1ddc51b98664f856b9baf685ab1745d9fa2472938977d8"
   }
  }
 },
 "nbformat": 4,
 "nbformat_minor": 2
}
